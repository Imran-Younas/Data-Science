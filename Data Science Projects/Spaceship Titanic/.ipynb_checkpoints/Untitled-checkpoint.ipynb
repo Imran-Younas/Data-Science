{
 "cells": [
  {
   "cell_type": "code",
   "execution_count": 1,
   "id": "94d93dfe",
   "metadata": {},
   "outputs": [],
   "source": [
    "import pandas as pd\n",
    "import numpy as np\n",
    "import matplotlib.pyplot as plt\n",
    "import seaborn as sns\n",
    "%matplotlib inline"
   ]
  },
  {
   "cell_type": "code",
   "execution_count": 2,
   "id": "f908e503",
   "metadata": {},
   "outputs": [],
   "source": [
    "df1_sample = pd.read_csv(\"sample_submission.csv\")\n",
    "df2_test = pd.read_csv(\"test.csv\")\n",
    "df3_train = pd.read_csv(\"train.csv\")"
   ]
  },
  {
   "cell_type": "markdown",
   "id": "7ea43409",
   "metadata": {},
   "source": [
    "### Dataset Analysis"
   ]
  },
  {
   "cell_type": "code",
   "execution_count": 3,
   "id": "c4ded35d",
   "metadata": {},
   "outputs": [
    {
     "name": "stdout",
     "output_type": "stream",
     "text": [
      "(4277, 2)\n",
      "(4277, 13)\n",
      "(8693, 14)\n"
     ]
    }
   ],
   "source": [
    "print(df1_sample.shape)\n",
    "print(df2_test.shape)\n",
    "print(df3_train.shape)\n"
   ]
  },
  {
   "cell_type": "code",
   "execution_count": 4,
   "id": "259b0baa",
   "metadata": {},
   "outputs": [
    {
     "data": {
      "text/plain": [
       "2324"
      ]
     },
     "execution_count": 4,
     "metadata": {},
     "output_type": "execute_result"
    }
   ],
   "source": [
    "df3_train.isnull().sum().sum()"
   ]
  },
  {
   "cell_type": "code",
   "execution_count": 5,
   "id": "295a6ddb",
   "metadata": {},
   "outputs": [
    {
     "data": {
      "text/plain": [
       "1117"
      ]
     },
     "execution_count": 5,
     "metadata": {},
     "output_type": "execute_result"
    }
   ],
   "source": [
    "df2_test.isnull().sum().sum()"
   ]
  },
  {
   "cell_type": "code",
   "execution_count": 6,
   "id": "b57b0031",
   "metadata": {},
   "outputs": [],
   "source": [
    "data = [df2_test, df3_train]\n",
    "df4 = pd.concat(data, sort=True)"
   ]
  },
  {
   "cell_type": "code",
   "execution_count": 7,
   "id": "484d4093",
   "metadata": {},
   "outputs": [
    {
     "data": {
      "text/plain": [
       "Age              270\n",
       "Cabin            299\n",
       "CryoSleep        310\n",
       "Destination      274\n",
       "FoodCourt        289\n",
       "HomePlanet       288\n",
       "Name             294\n",
       "PassengerId        0\n",
       "RoomService      263\n",
       "ShoppingMall     306\n",
       "Spa              284\n",
       "Transported     4277\n",
       "VIP              296\n",
       "VRDeck           268\n",
       "dtype: int64"
      ]
     },
     "execution_count": 7,
     "metadata": {},
     "output_type": "execute_result"
    }
   ],
   "source": [
    "df4.isnull().sum()"
   ]
  },
  {
   "cell_type": "markdown",
   "id": "f5619895",
   "metadata": {},
   "source": [
    "### Data Cleaning "
   ]
  },
  {
   "cell_type": "code",
   "execution_count": 8,
   "id": "264f0337",
   "metadata": {},
   "outputs": [],
   "source": [
    "df4_null_val_percentage = (df4.isnull().sum() /df4.shape[0]) * 100"
   ]
  },
  {
   "cell_type": "code",
   "execution_count": 9,
   "id": "d2101833",
   "metadata": {},
   "outputs": [
    {
     "data": {
      "text/plain": [
       "Age              2.081727\n",
       "Cabin            2.305320\n",
       "CryoSleep        2.390131\n",
       "Destination      2.112567\n",
       "FoodCourt        2.228219\n",
       "HomePlanet       2.220509\n",
       "Name             2.266769\n",
       "PassengerId      0.000000\n",
       "RoomService      2.027756\n",
       "ShoppingMall     2.359291\n",
       "Spa              2.189668\n",
       "Transported     32.976099\n",
       "VIP              2.282190\n",
       "VRDeck           2.066307\n",
       "dtype: float64"
      ]
     },
     "execution_count": 9,
     "metadata": {},
     "output_type": "execute_result"
    }
   ],
   "source": [
    "df4_null_val_percentage"
   ]
  },
  {
   "cell_type": "code",
   "execution_count": 10,
   "id": "f69e1b9e",
   "metadata": {},
   "outputs": [
    {
     "data": {
      "text/plain": [
       "array(['Earth', 'Europa', 'Mars', nan], dtype=object)"
      ]
     },
     "execution_count": 10,
     "metadata": {},
     "output_type": "execute_result"
    }
   ],
   "source": [
    "HomePlanet_unique_val  = np.array(df4['HomePlanet'].unique())\n",
    "HomePlanet_unique_val"
   ]
  },
  {
   "cell_type": "code",
   "execution_count": 11,
   "id": "5c63460a",
   "metadata": {},
   "outputs": [
    {
     "name": "stderr",
     "output_type": "stream",
     "text": [
      "/tmp/ipykernel_3740/1525864517.py:5: SettingWithCopyWarning: \n",
      "A value is trying to be set on a copy of a slice from a DataFrame.\n",
      "Try using .loc[row_indexer,col_indexer] = value instead\n",
      "\n",
      "See the caveats in the documentation: https://pandas.pydata.org/pandas-docs/stable/user_guide/indexing.html#returning-a-view-versus-a-copy\n",
      "  df5_HomePlanet_earth['Transported'] = df5_HomePlanet_earth['Transported'].fillna(mode_transport[0])\n",
      "/tmp/ipykernel_3740/1525864517.py:7: SettingWithCopyWarning: \n",
      "A value is trying to be set on a copy of a slice from a DataFrame\n",
      "\n",
      "See the caveats in the documentation: https://pandas.pydata.org/pandas-docs/stable/user_guide/indexing.html#returning-a-view-versus-a-copy\n",
      "  df5_HomePlanet_earth.dropna(inplace=True)\n"
     ]
    },
    {
     "data": {
      "text/plain": [
       "Age             0\n",
       "Cabin           0\n",
       "CryoSleep       0\n",
       "Destination     0\n",
       "FoodCourt       0\n",
       "HomePlanet      0\n",
       "Name            0\n",
       "PassengerId     0\n",
       "RoomService     0\n",
       "ShoppingMall    0\n",
       "Spa             0\n",
       "Transported     0\n",
       "VIP             0\n",
       "VRDeck          0\n",
       "dtype: int64"
      ]
     },
     "execution_count": 11,
     "metadata": {},
     "output_type": "execute_result"
    }
   ],
   "source": [
    "df5_HomePlanet_earth = df4[df4['HomePlanet'] == 'Earth' ]\n",
    "df5_HomePlanet_earth.isnull().sum()\n",
    "\n",
    "mode_transport = df5_HomePlanet_earth['Transported'].mode()\n",
    "df5_HomePlanet_earth['Transported'] = df5_HomePlanet_earth['Transported'].fillna(mode_transport[0])\n",
    "\n",
    "df5_HomePlanet_earth.dropna(inplace=True)\n",
    "df5_HomePlanet_earth.isnull().sum()\n",
    "\n"
   ]
  },
  {
   "cell_type": "code",
   "execution_count": 12,
   "id": "ef51962a",
   "metadata": {},
   "outputs": [
    {
     "name": "stderr",
     "output_type": "stream",
     "text": [
      "/tmp/ipykernel_3740/2418742609.py:5: SettingWithCopyWarning: \n",
      "A value is trying to be set on a copy of a slice from a DataFrame.\n",
      "Try using .loc[row_indexer,col_indexer] = value instead\n",
      "\n",
      "See the caveats in the documentation: https://pandas.pydata.org/pandas-docs/stable/user_guide/indexing.html#returning-a-view-versus-a-copy\n",
      "  df6_HomePlanet_Europa['Transported'] = df6_HomePlanet_Europa['Transported'].fillna(mode_transport[0])\n",
      "/tmp/ipykernel_3740/2418742609.py:7: SettingWithCopyWarning: \n",
      "A value is trying to be set on a copy of a slice from a DataFrame\n",
      "\n",
      "See the caveats in the documentation: https://pandas.pydata.org/pandas-docs/stable/user_guide/indexing.html#returning-a-view-versus-a-copy\n",
      "  df6_HomePlanet_Europa.dropna(inplace=True)\n"
     ]
    },
    {
     "data": {
      "text/plain": [
       "Age             0\n",
       "Cabin           0\n",
       "CryoSleep       0\n",
       "Destination     0\n",
       "FoodCourt       0\n",
       "HomePlanet      0\n",
       "Name            0\n",
       "PassengerId     0\n",
       "RoomService     0\n",
       "ShoppingMall    0\n",
       "Spa             0\n",
       "Transported     0\n",
       "VIP             0\n",
       "VRDeck          0\n",
       "dtype: int64"
      ]
     },
     "execution_count": 12,
     "metadata": {},
     "output_type": "execute_result"
    }
   ],
   "source": [
    "df6_HomePlanet_Europa = df4[df4['HomePlanet'] == 'Europa' ]\n",
    "df6_HomePlanet_Europa.isnull().sum()\n",
    "\n",
    "mode_transport = df6_HomePlanet_Europa['Transported'].mode()\n",
    "df6_HomePlanet_Europa['Transported'] = df6_HomePlanet_Europa['Transported'].fillna(mode_transport[0])\n",
    "\n",
    "df6_HomePlanet_Europa.dropna(inplace=True)\n",
    "df6_HomePlanet_Europa.isnull().sum()\n",
    "\n"
   ]
  },
  {
   "cell_type": "code",
   "execution_count": 13,
   "id": "97d81a4c",
   "metadata": {},
   "outputs": [
    {
     "name": "stderr",
     "output_type": "stream",
     "text": [
      "/tmp/ipykernel_3740/2306592398.py:5: SettingWithCopyWarning: \n",
      "A value is trying to be set on a copy of a slice from a DataFrame.\n",
      "Try using .loc[row_indexer,col_indexer] = value instead\n",
      "\n",
      "See the caveats in the documentation: https://pandas.pydata.org/pandas-docs/stable/user_guide/indexing.html#returning-a-view-versus-a-copy\n",
      "  df7_HomePlanet_Mars['Transported'] = df7_HomePlanet_Mars['Transported'].fillna(mode_transport[0])\n",
      "/tmp/ipykernel_3740/2306592398.py:7: SettingWithCopyWarning: \n",
      "A value is trying to be set on a copy of a slice from a DataFrame\n",
      "\n",
      "See the caveats in the documentation: https://pandas.pydata.org/pandas-docs/stable/user_guide/indexing.html#returning-a-view-versus-a-copy\n",
      "  df7_HomePlanet_Mars.dropna(inplace=True)\n"
     ]
    },
    {
     "data": {
      "text/plain": [
       "Age             0\n",
       "Cabin           0\n",
       "CryoSleep       0\n",
       "Destination     0\n",
       "FoodCourt       0\n",
       "HomePlanet      0\n",
       "Name            0\n",
       "PassengerId     0\n",
       "RoomService     0\n",
       "ShoppingMall    0\n",
       "Spa             0\n",
       "Transported     0\n",
       "VIP             0\n",
       "VRDeck          0\n",
       "dtype: int64"
      ]
     },
     "execution_count": 13,
     "metadata": {},
     "output_type": "execute_result"
    }
   ],
   "source": [
    "df7_HomePlanet_Mars = df4[df4['HomePlanet'] == 'Mars' ]\n",
    "df7_HomePlanet_Mars.isnull().sum()\n",
    "\n",
    "mode_transport = df7_HomePlanet_Mars['Transported'].mode()\n",
    "df7_HomePlanet_Mars['Transported'] = df7_HomePlanet_Mars['Transported'].fillna(mode_transport[0])\n",
    "\n",
    "df7_HomePlanet_Mars.dropna(inplace=True)\n",
    "df7_HomePlanet_Mars.isnull().sum()"
   ]
  },
  {
   "cell_type": "code",
   "execution_count": 14,
   "id": "8b18ff66",
   "metadata": {},
   "outputs": [],
   "source": [
    "df8_clean_dataset = pd.concat([df5_HomePlanet_earth, df6_HomePlanet_Europa, df7_HomePlanet_Mars], sort=True)"
   ]
  },
  {
   "cell_type": "code",
   "execution_count": 15,
   "id": "db5251fa",
   "metadata": {},
   "outputs": [
    {
     "data": {
      "text/plain": [
       "(9887, 14)"
      ]
     },
     "execution_count": 15,
     "metadata": {},
     "output_type": "execute_result"
    }
   ],
   "source": [
    "df8_clean_dataset.shape"
   ]
  },
  {
   "cell_type": "code",
   "execution_count": 16,
   "id": "d94e70bb",
   "metadata": {},
   "outputs": [
    {
     "data": {
      "text/plain": [
       "Age             0\n",
       "Cabin           0\n",
       "CryoSleep       0\n",
       "Destination     0\n",
       "FoodCourt       0\n",
       "HomePlanet      0\n",
       "Name            0\n",
       "PassengerId     0\n",
       "RoomService     0\n",
       "ShoppingMall    0\n",
       "Spa             0\n",
       "Transported     0\n",
       "VIP             0\n",
       "VRDeck          0\n",
       "dtype: int64"
      ]
     },
     "execution_count": 16,
     "metadata": {},
     "output_type": "execute_result"
    }
   ],
   "source": [
    "df8_clean_dataset.isnull().sum()"
   ]
  },
  {
   "cell_type": "markdown",
   "id": "c50dbb9a",
   "metadata": {},
   "source": [
    "### Exploratory data analysis"
   ]
  },
  {
   "cell_type": "code",
   "execution_count": 17,
   "id": "4d88ed94",
   "metadata": {},
   "outputs": [
    {
     "data": {
      "text/html": [
       "<div>\n",
       "<style scoped>\n",
       "    .dataframe tbody tr th:only-of-type {\n",
       "        vertical-align: middle;\n",
       "    }\n",
       "\n",
       "    .dataframe tbody tr th {\n",
       "        vertical-align: top;\n",
       "    }\n",
       "\n",
       "    .dataframe thead th {\n",
       "        text-align: right;\n",
       "    }\n",
       "</style>\n",
       "<table border=\"1\" class=\"dataframe\">\n",
       "  <thead>\n",
       "    <tr style=\"text-align: right;\">\n",
       "      <th></th>\n",
       "      <th>Age</th>\n",
       "      <th>FoodCourt</th>\n",
       "      <th>RoomService</th>\n",
       "      <th>ShoppingMall</th>\n",
       "      <th>Spa</th>\n",
       "      <th>VRDeck</th>\n",
       "    </tr>\n",
       "  </thead>\n",
       "  <tbody>\n",
       "    <tr>\n",
       "      <th>count</th>\n",
       "      <td>9887.000000</td>\n",
       "      <td>9887.000000</td>\n",
       "      <td>9887.000000</td>\n",
       "      <td>9887.000000</td>\n",
       "      <td>9887.000000</td>\n",
       "      <td>9887.000000</td>\n",
       "    </tr>\n",
       "    <tr>\n",
       "      <th>mean</th>\n",
       "      <td>28.790634</td>\n",
       "      <td>466.333468</td>\n",
       "      <td>222.047841</td>\n",
       "      <td>177.346920</td>\n",
       "      <td>307.704966</td>\n",
       "      <td>302.643674</td>\n",
       "    </tr>\n",
       "    <tr>\n",
       "      <th>std</th>\n",
       "      <td>14.395025</td>\n",
       "      <td>1618.846347</td>\n",
       "      <td>636.463513</td>\n",
       "      <td>573.968244</td>\n",
       "      <td>1125.206665</td>\n",
       "      <td>1142.410322</td>\n",
       "    </tr>\n",
       "    <tr>\n",
       "      <th>min</th>\n",
       "      <td>0.000000</td>\n",
       "      <td>0.000000</td>\n",
       "      <td>0.000000</td>\n",
       "      <td>0.000000</td>\n",
       "      <td>0.000000</td>\n",
       "      <td>0.000000</td>\n",
       "    </tr>\n",
       "    <tr>\n",
       "      <th>25%</th>\n",
       "      <td>19.000000</td>\n",
       "      <td>0.000000</td>\n",
       "      <td>0.000000</td>\n",
       "      <td>0.000000</td>\n",
       "      <td>0.000000</td>\n",
       "      <td>0.000000</td>\n",
       "    </tr>\n",
       "    <tr>\n",
       "      <th>50%</th>\n",
       "      <td>27.000000</td>\n",
       "      <td>0.000000</td>\n",
       "      <td>0.000000</td>\n",
       "      <td>0.000000</td>\n",
       "      <td>0.000000</td>\n",
       "      <td>0.000000</td>\n",
       "    </tr>\n",
       "    <tr>\n",
       "      <th>75%</th>\n",
       "      <td>38.000000</td>\n",
       "      <td>81.000000</td>\n",
       "      <td>51.000000</td>\n",
       "      <td>29.000000</td>\n",
       "      <td>59.500000</td>\n",
       "      <td>44.000000</td>\n",
       "    </tr>\n",
       "    <tr>\n",
       "      <th>max</th>\n",
       "      <td>79.000000</td>\n",
       "      <td>29813.000000</td>\n",
       "      <td>11567.000000</td>\n",
       "      <td>12253.000000</td>\n",
       "      <td>22408.000000</td>\n",
       "      <td>20336.000000</td>\n",
       "    </tr>\n",
       "  </tbody>\n",
       "</table>\n",
       "</div>"
      ],
      "text/plain": [
       "               Age     FoodCourt   RoomService  ShoppingMall           Spa  \\\n",
       "count  9887.000000   9887.000000   9887.000000   9887.000000   9887.000000   \n",
       "mean     28.790634    466.333468    222.047841    177.346920    307.704966   \n",
       "std      14.395025   1618.846347    636.463513    573.968244   1125.206665   \n",
       "min       0.000000      0.000000      0.000000      0.000000      0.000000   \n",
       "25%      19.000000      0.000000      0.000000      0.000000      0.000000   \n",
       "50%      27.000000      0.000000      0.000000      0.000000      0.000000   \n",
       "75%      38.000000     81.000000     51.000000     29.000000     59.500000   \n",
       "max      79.000000  29813.000000  11567.000000  12253.000000  22408.000000   \n",
       "\n",
       "             VRDeck  \n",
       "count   9887.000000  \n",
       "mean     302.643674  \n",
       "std     1142.410322  \n",
       "min        0.000000  \n",
       "25%        0.000000  \n",
       "50%        0.000000  \n",
       "75%       44.000000  \n",
       "max    20336.000000  "
      ]
     },
     "execution_count": 17,
     "metadata": {},
     "output_type": "execute_result"
    }
   ],
   "source": [
    "df8_clean_dataset.describe()"
   ]
  },
  {
   "cell_type": "code",
   "execution_count": 18,
   "id": "8f9c82ba",
   "metadata": {},
   "outputs": [
    {
     "data": {
      "text/html": [
       "<div>\n",
       "<style scoped>\n",
       "    .dataframe tbody tr th:only-of-type {\n",
       "        vertical-align: middle;\n",
       "    }\n",
       "\n",
       "    .dataframe tbody tr th {\n",
       "        vertical-align: top;\n",
       "    }\n",
       "\n",
       "    .dataframe thead th {\n",
       "        text-align: right;\n",
       "    }\n",
       "</style>\n",
       "<table border=\"1\" class=\"dataframe\">\n",
       "  <thead>\n",
       "    <tr style=\"text-align: right;\">\n",
       "      <th></th>\n",
       "      <th>Age</th>\n",
       "      <th>Cabin</th>\n",
       "      <th>CryoSleep</th>\n",
       "      <th>Destination</th>\n",
       "      <th>FoodCourt</th>\n",
       "      <th>HomePlanet</th>\n",
       "      <th>Name</th>\n",
       "      <th>PassengerId</th>\n",
       "      <th>RoomService</th>\n",
       "      <th>ShoppingMall</th>\n",
       "      <th>Spa</th>\n",
       "      <th>Transported</th>\n",
       "      <th>VIP</th>\n",
       "      <th>VRDeck</th>\n",
       "    </tr>\n",
       "  </thead>\n",
       "  <tbody>\n",
       "    <tr>\n",
       "      <th>0</th>\n",
       "      <td>27.0</td>\n",
       "      <td>G/3/S</td>\n",
       "      <td>True</td>\n",
       "      <td>TRAPPIST-1e</td>\n",
       "      <td>0.0</td>\n",
       "      <td>Earth</td>\n",
       "      <td>Nelly Carsoning</td>\n",
       "      <td>0013_01</td>\n",
       "      <td>0.0</td>\n",
       "      <td>0.0</td>\n",
       "      <td>0.0</td>\n",
       "      <td>False</td>\n",
       "      <td>False</td>\n",
       "      <td>0.0</td>\n",
       "    </tr>\n",
       "    <tr>\n",
       "      <th>1</th>\n",
       "      <td>19.0</td>\n",
       "      <td>F/4/S</td>\n",
       "      <td>False</td>\n",
       "      <td>TRAPPIST-1e</td>\n",
       "      <td>9.0</td>\n",
       "      <td>Earth</td>\n",
       "      <td>Lerome Peckers</td>\n",
       "      <td>0018_01</td>\n",
       "      <td>0.0</td>\n",
       "      <td>0.0</td>\n",
       "      <td>2823.0</td>\n",
       "      <td>False</td>\n",
       "      <td>False</td>\n",
       "      <td>0.0</td>\n",
       "    </tr>\n",
       "    <tr>\n",
       "      <th>4</th>\n",
       "      <td>20.0</td>\n",
       "      <td>F/5/S</td>\n",
       "      <td>False</td>\n",
       "      <td>TRAPPIST-1e</td>\n",
       "      <td>0.0</td>\n",
       "      <td>Earth</td>\n",
       "      <td>Brence Harperez</td>\n",
       "      <td>0023_01</td>\n",
       "      <td>10.0</td>\n",
       "      <td>635.0</td>\n",
       "      <td>0.0</td>\n",
       "      <td>False</td>\n",
       "      <td>False</td>\n",
       "      <td>0.0</td>\n",
       "    </tr>\n",
       "    <tr>\n",
       "      <th>5</th>\n",
       "      <td>31.0</td>\n",
       "      <td>F/7/P</td>\n",
       "      <td>False</td>\n",
       "      <td>TRAPPIST-1e</td>\n",
       "      <td>1615.0</td>\n",
       "      <td>Earth</td>\n",
       "      <td>Karlen Ricks</td>\n",
       "      <td>0027_01</td>\n",
       "      <td>0.0</td>\n",
       "      <td>263.0</td>\n",
       "      <td>113.0</td>\n",
       "      <td>False</td>\n",
       "      <td>False</td>\n",
       "      <td>60.0</td>\n",
       "    </tr>\n",
       "    <tr>\n",
       "      <th>9</th>\n",
       "      <td>24.0</td>\n",
       "      <td>F/7/S</td>\n",
       "      <td>False</td>\n",
       "      <td>55 Cancri e</td>\n",
       "      <td>639.0</td>\n",
       "      <td>Earth</td>\n",
       "      <td>Eliana Delazarson</td>\n",
       "      <td>0033_01</td>\n",
       "      <td>0.0</td>\n",
       "      <td>0.0</td>\n",
       "      <td>0.0</td>\n",
       "      <td>False</td>\n",
       "      <td>False</td>\n",
       "      <td>0.0</td>\n",
       "    </tr>\n",
       "  </tbody>\n",
       "</table>\n",
       "</div>"
      ],
      "text/plain": [
       "    Age  Cabin CryoSleep  Destination  FoodCourt HomePlanet  \\\n",
       "0  27.0  G/3/S      True  TRAPPIST-1e        0.0      Earth   \n",
       "1  19.0  F/4/S     False  TRAPPIST-1e        9.0      Earth   \n",
       "4  20.0  F/5/S     False  TRAPPIST-1e        0.0      Earth   \n",
       "5  31.0  F/7/P     False  TRAPPIST-1e     1615.0      Earth   \n",
       "9  24.0  F/7/S     False  55 Cancri e      639.0      Earth   \n",
       "\n",
       "                Name PassengerId  RoomService  ShoppingMall     Spa  \\\n",
       "0    Nelly Carsoning     0013_01          0.0           0.0     0.0   \n",
       "1     Lerome Peckers     0018_01          0.0           0.0  2823.0   \n",
       "4    Brence Harperez     0023_01         10.0         635.0     0.0   \n",
       "5       Karlen Ricks     0027_01          0.0         263.0   113.0   \n",
       "9  Eliana Delazarson     0033_01          0.0           0.0     0.0   \n",
       "\n",
       "   Transported    VIP  VRDeck  \n",
       "0        False  False     0.0  \n",
       "1        False  False     0.0  \n",
       "4        False  False     0.0  \n",
       "5        False  False    60.0  \n",
       "9        False  False     0.0  "
      ]
     },
     "execution_count": 18,
     "metadata": {},
     "output_type": "execute_result"
    }
   ],
   "source": [
    "df8_clean_dataset.head()"
   ]
  },
  {
   "cell_type": "code",
   "execution_count": 19,
   "id": "b2d61671",
   "metadata": {},
   "outputs": [
    {
     "data": {
      "image/png": "[encoded data removed]",
      "text/plain": [
       "<Figure size 432x288 with 1 Axes>"
      ]
     },
     "metadata": {
      "needs_background": "light"
     },
     "output_type": "display_data"
    },
    {
     "data": {
      "image/png": "[encoded data removed]",
      "text/plain": [
       "<Figure size 432x288 with 1 Axes>"
      ]
     },
     "metadata": {
      "needs_background": "light"
     },
     "output_type": "display_data"
    },
    {
     "data": {
      "image/png": "[encoded data removed]",
      "text/plain": [
       "<Figure size 432x288 with 1 Axes>"
      ]
     },
     "metadata": {
      "needs_background": "light"
     },
     "output_type": "display_data"
    },
    {
     "data": {
      "image/png": "[encoded data removed]",
      "text/plain": [
       "<Figure size 432x288 with 1 Axes>"
      ]
     },
     "metadata": {
      "needs_background": "light"
     },
     "output_type": "display_data"
    },
    {
     "data": {
      "image/png": "[encoded data removed]",
      "text/plain": [
       "<Figure size 432x288 with 1 Axes>"
      ]
     },
     "metadata": {
      "needs_background": "light"
     },
     "output_type": "display_data"
    },
    {
     "data": {
      "image/png": "[encoded data removed]",
      "text/plain": [
       "<Figure size 432x288 with 1 Axes>"
      ]
     },
     "metadata": {
      "needs_background": "light"
     },
     "output_type": "display_data"
    }
   ],
   "source": [
    "num_value = df8_clean_dataset.select_dtypes(include=['int64','float64'])\n",
    "\n",
    "def histo(df, col):\n",
    "    plt.hist(df[col])\n",
    "    \n",
    "for col in num_value:\n",
    "    histo(df8_clean_dataset, col)\n",
    "    plt.title(col)\n",
    "    plt.show()"
   ]
  },
  {
   "cell_type": "code",
   "execution_count": 20,
   "id": "9d097681",
   "metadata": {},
   "outputs": [
    {
     "data": {
      "image/png": "[encoded data removed]",
      "text/plain": [
       "<Figure size 720x576 with 1 Axes>"
      ]
     },
     "metadata": {},
     "output_type": "display_data"
    }
   ],
   "source": [
    "values = df8_clean_dataset['Transported'].value_counts().values\n",
    "labels = df8_clean_dataset['Transported'].value_counts().index\n",
    "\n",
    "plt.figure(figsize=[10,8])\n",
    "textprops = {\"fontsize\": 18}\n",
    "\n",
    "plt.pie(values, labels = labels,\n",
    "       autopct = \"%0.2f%%\", \n",
    "        textprops = textprops,\n",
    "\n",
    "       ) \n",
    "\n",
    "plt.title(\"Total Transported Pie Chart\", bbox={'facecolor':'0.8', 'pad':5}, fontsize = 20)\n",
    "plt.show()\n"
   ]
  },
  {
   "cell_type": "code",
   "execution_count": 21,
   "id": "27827fef",
   "metadata": {},
   "outputs": [
    {
     "data": {
      "image/png": "[encoded data removed]",
      "text/plain": [
       "<Figure size 720x576 with 1 Axes>"
      ]
     },
     "metadata": {},
     "output_type": "display_data"
    }
   ],
   "source": [
    "VIP = df8_clean_dataset[df8_clean_dataset['VIP'] == True]\n",
    "values = VIP['Transported'].value_counts().values\n",
    "labels = VIP['Transported'].value_counts().index\n",
    "\n",
    "plt.figure(figsize=[10,8])\n",
    "textprops = {\"fontsize\": 18}\n",
    "color = ['red', 'green']\n",
    "\n",
    "plt.pie(values, labels = labels,\n",
    "       autopct = \"%0.2f%%\", \n",
    "        textprops = textprops,\n",
    "        colors = color\n",
    "\n",
    "       ) \n",
    "\n",
    "plt.title(\"VIP Transported Pie Chart\", bbox={'facecolor':'0.8', 'pad':5}, fontsize = 20)\n",
    "plt.show()"
   ]
  },
  {
   "cell_type": "code",
   "execution_count": 22,
   "id": "c15c292f",
   "metadata": {},
   "outputs": [
    {
     "data": {
      "image/png": "[encoded data removed]",
      "text/plain": [
       "<Figure size 720x576 with 1 Axes>"
      ]
     },
     "metadata": {},
     "output_type": "display_data"
    }
   ],
   "source": [
    "non_VIP = df8_clean_dataset[df8_clean_dataset['VIP'] == False]\n",
    "values = non_VIP['Transported'].value_counts().values\n",
    "labels = non_VIP['Transported'].value_counts().index\n",
    "\n",
    "plt.figure(figsize=[10,8])\n",
    "textprops = {\"fontsize\": 18}\n",
    "color = ['pink', 'orange']\n",
    "\n",
    "plt.pie(values, labels = labels,\n",
    "       autopct = \"%0.2f%%\", \n",
    "        textprops = textprops,\n",
    "        colors = color\n",
    "\n",
    "       ) \n",
    "\n",
    "plt.title(\"NON VIP Transported Pie Chart\", bbox={'facecolor':'0.8', 'pad':5}, fontsize = 20)\n",
    "plt.show()"
   ]
  },
  {
   "cell_type": "markdown",
   "id": "b78e0549",
   "metadata": {},
   "source": [
    "## Feature Engineering"
   ]
  },
  {
   "cell_type": "code",
   "execution_count": 23,
   "id": "780cb89a",
   "metadata": {},
   "outputs": [
    {
     "data": {
      "text/plain": [
       "(9887, 14)"
      ]
     },
     "execution_count": 23,
     "metadata": {},
     "output_type": "execute_result"
    }
   ],
   "source": [
    "df8_clean_dataset.shape"
   ]
  },
  {
   "cell_type": "code",
   "execution_count": 24,
   "id": "0bf1e806",
   "metadata": {},
   "outputs": [],
   "source": [
    "df9_specific_cols = df8_clean_dataset[['Age','CryoSleep', 'Destination','HomePlanet','Transported', 'VIP']]"
   ]
  },
  {
   "cell_type": "code",
   "execution_count": 26,
   "id": "09b4e5c7",
   "metadata": {},
   "outputs": [
    {
     "name": "stderr",
     "output_type": "stream",
     "text": [
      "/tmp/ipykernel_3740/3979462775.py:1: SettingWithCopyWarning: \n",
      "A value is trying to be set on a copy of a slice from a DataFrame.\n",
      "Try using .loc[row_indexer,col_indexer] = value instead\n",
      "\n",
      "See the caveats in the documentation: https://pandas.pydata.org/pandas-docs/stable/user_guide/indexing.html#returning-a-view-versus-a-copy\n",
      "  df9_specific_cols['Transported'] = np.where(df9_specific_cols['Transported'] == True, 1, 0)\n",
      "/tmp/ipykernel_3740/3979462775.py:2: SettingWithCopyWarning: \n",
      "A value is trying to be set on a copy of a slice from a DataFrame.\n",
      "Try using .loc[row_indexer,col_indexer] = value instead\n",
      "\n",
      "See the caveats in the documentation: https://pandas.pydata.org/pandas-docs/stable/user_guide/indexing.html#returning-a-view-versus-a-copy\n",
      "  df9_specific_cols['VIP'] = np.where(df9_specific_cols['VIP'] == True, 1, 0)\n",
      "/tmp/ipykernel_3740/3979462775.py:3: SettingWithCopyWarning: \n",
      "A value is trying to be set on a copy of a slice from a DataFrame.\n",
      "Try using .loc[row_indexer,col_indexer] = value instead\n",
      "\n",
      "See the caveats in the documentation: https://pandas.pydata.org/pandas-docs/stable/user_guide/indexing.html#returning-a-view-versus-a-copy\n",
      "  df9_specific_cols['CryoSleep'] = np.where(df9_specific_cols['CryoSleep'] == True, 1, 0)\n"
     ]
    }
   ],
   "source": [
    "df9_specific_cols['Transported'] = np.where(df9_specific_cols['Transported'] == True, 1, 0)\n",
    "df9_specific_cols['VIP'] = np.where(df9_specific_cols['VIP'] == True, 1, 0)\n",
    "df9_specific_cols['CryoSleep'] = np.where(df9_specific_cols['CryoSleep'] == True, 1, 0)\n"
   ]
  },
  {
   "cell_type": "code",
   "execution_count": 39,
   "id": "9e7840e0",
   "metadata": {},
   "outputs": [],
   "source": [
    "Destination_dumies = pd.get_dummies(df9_specific_cols['Destination'])\n",
    "HomePlanet_dumies = pd.get_dummies(df9_specific_cols['HomePlanet'])\n",
    "\n",
    "\n",
    "df10_dumies = (pd.concat([df9_specific_cols, Destination_dumies, HomePlanet_dumies], axis = 'columns'))\n",
    "df11_ready_for_model = df10_dumies.drop(columns = ['Destination', 'HomePlanet'])"
   ]
  },
  {
   "cell_type": "code",
   "execution_count": 41,
   "id": "164fdcba",
   "metadata": {},
   "outputs": [
    {
     "data": {
      "text/plain": [
       "(9887, 10)"
      ]
     },
     "execution_count": 41,
     "metadata": {},
     "output_type": "execute_result"
    }
   ],
   "source": [
    "df11_ready_for_model.shape"
   ]
  },
  {
   "cell_type": "code",
   "execution_count": 42,
   "id": "53d09b23",
   "metadata": {
    "scrolled": true
   },
   "outputs": [
    {
     "data": {
      "text/html": [
       "<div>\n",
       "<style scoped>\n",
       "    .dataframe tbody tr th:only-of-type {\n",
       "        vertical-align: middle;\n",
       "    }\n",
       "\n",
       "    .dataframe tbody tr th {\n",
       "        vertical-align: top;\n",
       "    }\n",
       "\n",
       "    .dataframe thead th {\n",
       "        text-align: right;\n",
       "    }\n",
       "</style>\n",
       "<table border=\"1\" class=\"dataframe\">\n",
       "  <thead>\n",
       "    <tr style=\"text-align: right;\">\n",
       "      <th></th>\n",
       "      <th>Age</th>\n",
       "      <th>CryoSleep</th>\n",
       "      <th>Transported</th>\n",
       "      <th>VIP</th>\n",
       "      <th>55 Cancri e</th>\n",
       "      <th>PSO J318.5-22</th>\n",
       "      <th>TRAPPIST-1e</th>\n",
       "      <th>Earth</th>\n",
       "      <th>Europa</th>\n",
       "      <th>Mars</th>\n",
       "    </tr>\n",
       "  </thead>\n",
       "  <tbody>\n",
       "    <tr>\n",
       "      <th>0</th>\n",
       "      <td>27.0</td>\n",
       "      <td>1</td>\n",
       "      <td>0</td>\n",
       "      <td>0</td>\n",
       "      <td>0</td>\n",
       "      <td>0</td>\n",
       "      <td>1</td>\n",
       "      <td>1</td>\n",
       "      <td>0</td>\n",
       "      <td>0</td>\n",
       "    </tr>\n",
       "    <tr>\n",
       "      <th>1</th>\n",
       "      <td>19.0</td>\n",
       "      <td>0</td>\n",
       "      <td>0</td>\n",
       "      <td>0</td>\n",
       "      <td>0</td>\n",
       "      <td>0</td>\n",
       "      <td>1</td>\n",
       "      <td>1</td>\n",
       "      <td>0</td>\n",
       "      <td>0</td>\n",
       "    </tr>\n",
       "    <tr>\n",
       "      <th>4</th>\n",
       "      <td>20.0</td>\n",
       "      <td>0</td>\n",
       "      <td>0</td>\n",
       "      <td>0</td>\n",
       "      <td>0</td>\n",
       "      <td>0</td>\n",
       "      <td>1</td>\n",
       "      <td>1</td>\n",
       "      <td>0</td>\n",
       "      <td>0</td>\n",
       "    </tr>\n",
       "    <tr>\n",
       "      <th>5</th>\n",
       "      <td>31.0</td>\n",
       "      <td>0</td>\n",
       "      <td>0</td>\n",
       "      <td>0</td>\n",
       "      <td>0</td>\n",
       "      <td>0</td>\n",
       "      <td>1</td>\n",
       "      <td>1</td>\n",
       "      <td>0</td>\n",
       "      <td>0</td>\n",
       "    </tr>\n",
       "    <tr>\n",
       "      <th>9</th>\n",
       "      <td>24.0</td>\n",
       "      <td>0</td>\n",
       "      <td>0</td>\n",
       "      <td>0</td>\n",
       "      <td>1</td>\n",
       "      <td>0</td>\n",
       "      <td>0</td>\n",
       "      <td>1</td>\n",
       "      <td>0</td>\n",
       "      <td>0</td>\n",
       "    </tr>\n",
       "  </tbody>\n",
       "</table>\n",
       "</div>"
      ],
      "text/plain": [
       "    Age  CryoSleep  Transported  VIP  55 Cancri e  PSO J318.5-22  TRAPPIST-1e  \\\n",
       "0  27.0          1            0    0            0              0            1   \n",
       "1  19.0          0            0    0            0              0            1   \n",
       "4  20.0          0            0    0            0              0            1   \n",
       "5  31.0          0            0    0            0              0            1   \n",
       "9  24.0          0            0    0            1              0            0   \n",
       "\n",
       "   Earth  Europa  Mars  \n",
       "0      1       0     0  \n",
       "1      1       0     0  \n",
       "4      1       0     0  \n",
       "5      1       0     0  \n",
       "9      1       0     0  "
      ]
     },
     "execution_count": 42,
     "metadata": {},
     "output_type": "execute_result"
    }
   ],
   "source": [
    "df11_ready_for_model.head()"
   ]
  },
  {
   "cell_type": "code",
   "execution_count": 63,
   "id": "cf5934a5",
   "metadata": {},
   "outputs": [
    {
     "data": {
      "text/html": [
       "<div>\n",
       "<style scoped>\n",
       "    .dataframe tbody tr th:only-of-type {\n",
       "        vertical-align: middle;\n",
       "    }\n",
       "\n",
       "    .dataframe tbody tr th {\n",
       "        vertical-align: top;\n",
       "    }\n",
       "\n",
       "    .dataframe thead th {\n",
       "        text-align: right;\n",
       "    }\n",
       "</style>\n",
       "<table border=\"1\" class=\"dataframe\">\n",
       "  <thead>\n",
       "    <tr style=\"text-align: right;\">\n",
       "      <th></th>\n",
       "      <th>Age</th>\n",
       "      <th>CryoSleep</th>\n",
       "      <th>Transported</th>\n",
       "      <th>VIP</th>\n",
       "      <th>55 Cancri e</th>\n",
       "      <th>PSO J318.5-22</th>\n",
       "      <th>TRAPPIST-1e</th>\n",
       "      <th>Earth</th>\n",
       "      <th>Europa</th>\n",
       "      <th>Mars</th>\n",
       "    </tr>\n",
       "  </thead>\n",
       "  <tbody>\n",
       "    <tr>\n",
       "      <th>90</th>\n",
       "      <td>26.0</td>\n",
       "      <td>0</td>\n",
       "      <td>1</td>\n",
       "      <td>1</td>\n",
       "      <td>1</td>\n",
       "      <td>0</td>\n",
       "      <td>0</td>\n",
       "      <td>0</td>\n",
       "      <td>1</td>\n",
       "      <td>0</td>\n",
       "    </tr>\n",
       "    <tr>\n",
       "      <th>289</th>\n",
       "      <td>25.0</td>\n",
       "      <td>0</td>\n",
       "      <td>1</td>\n",
       "      <td>1</td>\n",
       "      <td>0</td>\n",
       "      <td>0</td>\n",
       "      <td>1</td>\n",
       "      <td>0</td>\n",
       "      <td>1</td>\n",
       "      <td>0</td>\n",
       "    </tr>\n",
       "    <tr>\n",
       "      <th>381</th>\n",
       "      <td>29.0</td>\n",
       "      <td>0</td>\n",
       "      <td>1</td>\n",
       "      <td>1</td>\n",
       "      <td>1</td>\n",
       "      <td>0</td>\n",
       "      <td>0</td>\n",
       "      <td>0</td>\n",
       "      <td>1</td>\n",
       "      <td>0</td>\n",
       "    </tr>\n",
       "    <tr>\n",
       "      <th>486</th>\n",
       "      <td>34.0</td>\n",
       "      <td>0</td>\n",
       "      <td>1</td>\n",
       "      <td>1</td>\n",
       "      <td>1</td>\n",
       "      <td>0</td>\n",
       "      <td>0</td>\n",
       "      <td>0</td>\n",
       "      <td>1</td>\n",
       "      <td>0</td>\n",
       "    </tr>\n",
       "    <tr>\n",
       "      <th>548</th>\n",
       "      <td>28.0</td>\n",
       "      <td>0</td>\n",
       "      <td>1</td>\n",
       "      <td>1</td>\n",
       "      <td>1</td>\n",
       "      <td>0</td>\n",
       "      <td>0</td>\n",
       "      <td>0</td>\n",
       "      <td>1</td>\n",
       "      <td>0</td>\n",
       "    </tr>\n",
       "    <tr>\n",
       "      <th>...</th>\n",
       "      <td>...</td>\n",
       "      <td>...</td>\n",
       "      <td>...</td>\n",
       "      <td>...</td>\n",
       "      <td>...</td>\n",
       "      <td>...</td>\n",
       "      <td>...</td>\n",
       "      <td>...</td>\n",
       "      <td>...</td>\n",
       "      <td>...</td>\n",
       "    </tr>\n",
       "    <tr>\n",
       "      <th>8065</th>\n",
       "      <td>35.0</td>\n",
       "      <td>0</td>\n",
       "      <td>0</td>\n",
       "      <td>1</td>\n",
       "      <td>0</td>\n",
       "      <td>0</td>\n",
       "      <td>1</td>\n",
       "      <td>0</td>\n",
       "      <td>0</td>\n",
       "      <td>1</td>\n",
       "    </tr>\n",
       "    <tr>\n",
       "      <th>8289</th>\n",
       "      <td>41.0</td>\n",
       "      <td>0</td>\n",
       "      <td>0</td>\n",
       "      <td>1</td>\n",
       "      <td>0</td>\n",
       "      <td>0</td>\n",
       "      <td>1</td>\n",
       "      <td>0</td>\n",
       "      <td>0</td>\n",
       "      <td>1</td>\n",
       "    </tr>\n",
       "    <tr>\n",
       "      <th>8339</th>\n",
       "      <td>32.0</td>\n",
       "      <td>0</td>\n",
       "      <td>1</td>\n",
       "      <td>1</td>\n",
       "      <td>0</td>\n",
       "      <td>0</td>\n",
       "      <td>1</td>\n",
       "      <td>0</td>\n",
       "      <td>0</td>\n",
       "      <td>1</td>\n",
       "    </tr>\n",
       "    <tr>\n",
       "      <th>8357</th>\n",
       "      <td>26.0</td>\n",
       "      <td>0</td>\n",
       "      <td>0</td>\n",
       "      <td>1</td>\n",
       "      <td>0</td>\n",
       "      <td>0</td>\n",
       "      <td>1</td>\n",
       "      <td>0</td>\n",
       "      <td>0</td>\n",
       "      <td>1</td>\n",
       "    </tr>\n",
       "    <tr>\n",
       "      <th>8447</th>\n",
       "      <td>26.0</td>\n",
       "      <td>0</td>\n",
       "      <td>0</td>\n",
       "      <td>1</td>\n",
       "      <td>0</td>\n",
       "      <td>0</td>\n",
       "      <td>1</td>\n",
       "      <td>0</td>\n",
       "      <td>0</td>\n",
       "      <td>1</td>\n",
       "    </tr>\n",
       "  </tbody>\n",
       "</table>\n",
       "<p>220 rows × 10 columns</p>\n",
       "</div>"
      ],
      "text/plain": [
       "       Age  CryoSleep  Transported  VIP  55 Cancri e  PSO J318.5-22  \\\n",
       "90    26.0          0            1    1            1              0   \n",
       "289   25.0          0            1    1            0              0   \n",
       "381   29.0          0            1    1            1              0   \n",
       "486   34.0          0            1    1            1              0   \n",
       "548   28.0          0            1    1            1              0   \n",
       "...    ...        ...          ...  ...          ...            ...   \n",
       "8065  35.0          0            0    1            0              0   \n",
       "8289  41.0          0            0    1            0              0   \n",
       "8339  32.0          0            1    1            0              0   \n",
       "8357  26.0          0            0    1            0              0   \n",
       "8447  26.0          0            0    1            0              0   \n",
       "\n",
       "      TRAPPIST-1e  Earth  Europa  Mars  \n",
       "90              0      0       1     0  \n",
       "289             1      0       1     0  \n",
       "381             0      0       1     0  \n",
       "486             0      0       1     0  \n",
       "548             0      0       1     0  \n",
       "...           ...    ...     ...   ...  \n",
       "8065            1      0       0     1  \n",
       "8289            1      0       0     1  \n",
       "8339            1      0       0     1  \n",
       "8357            1      0       0     1  \n",
       "8447            1      0       0     1  \n",
       "\n",
       "[220 rows x 10 columns]"
      ]
     },
     "execution_count": 63,
     "metadata": {},
     "output_type": "execute_result"
    }
   ],
   "source": []
  },
  {
   "cell_type": "markdown",
   "id": "1a85031c",
   "metadata": {},
   "source": [
    "### Model Building\n"
   ]
  },
  {
   "cell_type": "code",
   "execution_count": 45,
   "id": "040a6d20",
   "metadata": {},
   "outputs": [],
   "source": [
    "X = df11_ready_for_model.drop(columns = ['Transported'])\n",
    "y = df11_ready_for_model['Transported']"
   ]
  },
  {
   "cell_type": "code",
   "execution_count": 48,
   "id": "fd9dd378",
   "metadata": {},
   "outputs": [],
   "source": [
    "from sklearn.model_selection import train_test_split"
   ]
  },
  {
   "cell_type": "code",
   "execution_count": 59,
   "id": "4aa4e3ad",
   "metadata": {},
   "outputs": [],
   "source": [
    "X_train, X_test, y_train, y_test = train_test_split(X, y, test_size=0.3, random_state=20)"
   ]
  },
  {
   "cell_type": "code",
   "execution_count": 50,
   "id": "fc96920b",
   "metadata": {},
   "outputs": [
    {
     "data": {
      "text/plain": [
       "DecisionTreeClassifier()"
      ]
     },
     "execution_count": 50,
     "metadata": {},
     "output_type": "execute_result"
    }
   ],
   "source": [
    "from sklearn.tree import DecisionTreeClassifier\n",
    "dt = DecisionTreeClassifier()\n",
    "dt.fit(X_train, y_train)"
   ]
  },
  {
   "cell_type": "code",
   "execution_count": 53,
   "id": "d4d45e05",
   "metadata": {},
   "outputs": [
    {
     "data": {
      "text/plain": [
       "0.7243006403774856"
      ]
     },
     "execution_count": 53,
     "metadata": {},
     "output_type": "execute_result"
    }
   ],
   "source": [
    "dt.score(X_test,y_test)"
   ]
  },
  {
   "cell_type": "code",
   "execution_count": 55,
   "id": "78e6e199",
   "metadata": {},
   "outputs": [
    {
     "data": {
      "text/plain": [
       "SVC()"
      ]
     },
     "execution_count": 55,
     "metadata": {},
     "output_type": "execute_result"
    }
   ],
   "source": [
    "from sklearn.svm import SVC\n",
    "\n",
    "sv = SVC()\n",
    "sv.fit(X_train, y_train)"
   ]
  },
  {
   "cell_type": "code",
   "execution_count": 60,
   "id": "48679090",
   "metadata": {},
   "outputs": [
    {
     "data": {
      "text/plain": [
       "0.726659925851028"
      ]
     },
     "execution_count": 60,
     "metadata": {},
     "output_type": "execute_result"
    }
   ],
   "source": [
    "sv.score(X_test,y_test)"
   ]
  },
  {
   "cell_type": "code",
   "execution_count": 64,
   "id": "4c84a67d",
   "metadata": {},
   "outputs": [
    {
     "data": {
      "text/plain": [
       "MLPClassifier()"
      ]
     },
     "execution_count": 64,
     "metadata": {},
     "output_type": "execute_result"
    }
   ],
   "source": [
    "from sklearn.neural_network import MLPClassifier\n",
    "mlp = MLPClassifier()\n",
    "mlp.fit(X_train, y_train)"
   ]
  },
  {
   "cell_type": "code",
   "execution_count": 65,
   "id": "a3a80ddf",
   "metadata": {},
   "outputs": [
    {
     "data": {
      "text/plain": [
       "0.7330637007077856"
      ]
     },
     "execution_count": 65,
     "metadata": {},
     "output_type": "execute_result"
    }
   ],
   "source": [
    "mlp.score(X_test,y_test)"
   ]
  },
  {
   "cell_type": "code",
   "execution_count": null,
   "id": "65c66f38",
   "metadata": {},
   "outputs": [],
   "source": []
  }
 ],
 "metadata": {
  "kernelspec": {
   "display_name": "Python 3 (ipykernel)",
   "language": "python",
   "name": "python3"
  },
  "language_info": {
   "codemirror_mode": {
    "name": "ipython",
    "version": 3
   },
   "file_extension": ".py",
   "mimetype": "text/x-python",
   "name": "python",
   "nbconvert_exporter": "python",
   "pygments_lexer": "ipython3",
   "version": "3.9.12"
  }
 },
 "nbformat": 4,
 "nbformat_minor": 5
}

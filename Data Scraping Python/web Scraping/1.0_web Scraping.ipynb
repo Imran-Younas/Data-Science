{
 "cells": [
  {
   "cell_type": "code",
   "execution_count": 29,
   "id": "70dc4f9d",
   "metadata": {},
   "outputs": [],
   "source": [
    "import requests as req\n",
    "from bs4 import BeautifulSoup as bs\n",
    "import re"
   ]
  },
  {
   "cell_type": "code",
   "execution_count": 2,
   "id": "ac585d59",
   "metadata": {},
   "outputs": [],
   "source": [
    "url = \"https://webscraper.io/test-sites/e-commerce/allinone\""
   ]
  },
  {
   "cell_type": "code",
   "execution_count": 3,
   "id": "0947778e",
   "metadata": {},
   "outputs": [],
   "source": [
    "r = req.get(url)"
   ]
  },
  {
   "cell_type": "code",
   "execution_count": 4,
   "id": "9a9c3b99",
   "metadata": {},
   "outputs": [
    {
     "name": "stdout",
     "output_type": "stream",
     "text": [
      "200\n"
     ]
    }
   ],
   "source": [
    "print(r.status_code)"
   ]
  },
  {
   "cell_type": "code",
   "execution_count": 5,
   "id": "101d00bb",
   "metadata": {},
   "outputs": [],
   "source": [
    "soup = bs(r.text, \"lxml\")"
   ]
  },
  {
   "cell_type": "code",
   "execution_count": 6,
   "id": "2968481b",
   "metadata": {},
   "outputs": [],
   "source": [
    "tag = soup.div"
   ]
  },
  {
   "cell_type": "code",
   "execution_count": 7,
   "id": "c8a2b422",
   "metadata": {},
   "outputs": [
    {
     "name": "stdout",
     "output_type": "stream",
     "text": [
      "{'class': ['container']}\n"
     ]
    }
   ],
   "source": [
    "print(tag.attrs)"
   ]
  },
  {
   "cell_type": "code",
   "execution_count": 8,
   "id": "bb4388d4",
   "metadata": {},
   "outputs": [
    {
     "name": "stdout",
     "output_type": "stream",
     "text": [
      "None\n"
     ]
    }
   ],
   "source": [
    "tag2 = soup.div.we\n",
    "print(tag2)"
   ]
  },
  {
   "cell_type": "markdown",
   "id": "88a2e352",
   "metadata": {},
   "source": [
    "#### Scrap site"
   ]
  },
  {
   "cell_type": "code",
   "execution_count": 9,
   "id": "bcd10c12",
   "metadata": {},
   "outputs": [
    {
     "name": "stdout",
     "output_type": "stream",
     "text": [
      "$520.99\n",
      "15.6\", Core i5-4210U, 4GB, 500GB, Windows 8.1\n"
     ]
    }
   ],
   "source": [
    "url = \"https://webscraper.io/test-sites/e-commerce/allinone/computers/tablets\"\n",
    "r = req.get(url)\n",
    "price = (soup.find(\"h4\", {\"class\": \"pull-right price\"}))\n",
    "descp = (soup.find(\"p\", {\"class\": \"description\"}))\n",
    "print(price.string)\n",
    "print(descp.string)\n",
    "\n",
    "\n",
    "\n",
    "#Note:  Its All about find function through find function we scrap data from site (find function use only get 1st tag, attribut etc data)"
   ]
  },
  {
   "cell_type": "code",
   "execution_count": 30,
   "id": "c41621a8",
   "metadata": {},
   "outputs": [
    {
     "name": "stdout",
     "output_type": "stream",
     "text": [
      "=> Prices\n",
      "$295.99\n",
      "$299.00\n",
      "$299.00\n",
      "$306.99\n",
      "$321.94\n",
      "$356.49\n",
      "$364.46\n",
      "$372.70\n",
      "$379.94\n",
      "$379.95\n",
      "$391.48\n",
      "$393.88\n",
      "$399.00\n",
      "$399.99\n",
      "$404.23\n",
      "$408.98\n",
      "$409.63\n",
      "$410.46\n",
      "$410.66\n",
      "$416.99\n",
      "$433.30\n",
      "$436.29\n",
      "$436.29\n",
      "$439.73\n",
      "$454.62\n",
      "$454.73\n",
      "$457.38\n",
      "$465.95\n",
      "$468.56\n",
      "$469.10\n",
      "$484.23\n",
      "$485.90\n",
      "$487.80\n",
      "$488.64\n",
      "$488.78\n",
      "$494.71\n",
      "$497.17\n",
      "$498.23\n",
      "$520.99\n",
      "$564.98\n",
      "$577.99\n",
      "$581.99\n",
      "$609.99\n",
      "$679.00\n",
      "$679.00\n",
      "$729.00\n",
      "$739.99\n",
      "$745.99\n",
      "$799.00\n",
      "$809.00\n",
      "$899.00\n",
      "$999.00\n",
      "$1033.99\n",
      "$1096.02\n",
      "$1098.42\n",
      "$1099.00\n",
      "$1099.00\n",
      "$1101.83\n",
      "$1102.66\n",
      "$1110.14\n",
      "$1112.91\n",
      "$1114.55\n",
      "$1123.87\n",
      "$1123.87\n",
      "$1124.20\n",
      "$1133.82\n",
      "$1133.91\n",
      "$1139.54\n",
      "$1140.62\n",
      "$1143.40\n",
      "$1144.20\n",
      "$1144.40\n",
      "$1149.00\n",
      "$1149.00\n",
      "$1149.73\n",
      "$1154.04\n",
      "$1170.10\n",
      "$1178.19\n",
      "$1178.99\n",
      "$1179.00\n",
      "$1187.88\n",
      "$1187.98\n",
      "$1199.00\n",
      "$1199.00\n",
      "$1199.73\n",
      "$1203.41\n",
      "$1212.16\n",
      "$1221.58\n",
      "$1223.99\n",
      "$1235.49\n",
      "$1238.37\n",
      "$1239.20\n",
      "$1244.99\n",
      "$1259.00\n",
      "$1260.13\n",
      "$1271.06\n",
      "$1273.11\n",
      "$1281.99\n",
      "$1294.74\n",
      "$1299.00\n",
      "$1310.39\n",
      "$1311.99\n",
      "$1326.83\n",
      "$1333.00\n",
      "$1337.28\n",
      "$1338.37\n",
      "$1341.22\n",
      "$1347.78\n",
      "$1349.23\n",
      "$1362.24\n",
      "$1366.32\n",
      "$1381.13\n",
      "$1399.00\n",
      "$1399.00\n",
      "$1769.00\n",
      "$1769.00\n",
      "$1799.00\n",
      "Description\n",
      "1 =>  Asus VivoBook X441NA-GA190 Chocolate Black, 14\", Celeron N3450, 4GB, 128GB SSD, Endless OS, ENG kbd\n",
      "2 =>  Prestigio SmartBook 133S Dark Grey, 13.3\" FHD IPS, Celeron N3350 1.1GHz, 4GB, 32GB, Windows 10 Pro + Office 365 1 gadam\n",
      "3 =>  Prestigio SmartBook 133S Gold, 13.3\" FHD IPS, Celeron N3350 1.1GHz, 4GB, 32GB, Windows 10 Pro + Office 365 1 gadam\n",
      "4 =>  15.6\", Pentium N3520 2.16GHz, 4GB, 500GB, Linux\n",
      "5 =>  Lenovo V110-15IAP, 15.6\" HD, Celeron N3350 1.1GHz, 4GB, 128GB SSD, Windows 10 Home\n",
      "6 =>  Asus VivoBook 15 X540NA-GQ008T Chocolate Black, 15.6\" HD, Pentium N4200, 4GB, 500GB, Windows 10 Home, En kbd\n",
      "7 =>  Hewlett Packard 250 G6 Dark Ash Silver, 15.6\" HD, Celeron N3060 1.6GHz, 4GB, 128GB SSD, DOS\n",
      "8 =>  Acer Aspire 3 A315-31 Black, 15.6\" HD, Celeron N3350 1.1GHz, 4GB, 128GB SSD, Windows 10 Home\n",
      "9 =>  Acer Aspire A315-31-C33J Black 15.6\", HD, Celeron N3350, 4GB DDR3L, 128GB, Windows 10 Home, ENG\n",
      "10 =>  Acer Aspire ES1-572 Black, 15.6\" HD, Core i3-6006U, 4GB, 128GB SSD, Linux\n",
      "11 =>  Acer Aspire 3 A315-31 Black, 15.6\" HD, Pentium N4200 1.1GHz, 4GB, 128GB SSD, Windows 10 Home\n",
      "12 =>  Acer Aspire 3 A315-21, 15.6\", AMD A4-9120. 4GB. 128GB SSD, Linux\n",
      "13 =>  Asus VivoBook Max X541NA-GQ041 Black Chocolate, 15.6\" HD, Pentium N4200 1.1GHz, 4GB, 500GB, Windows 10 Home\n",
      "14 =>  Asus VivoBook E502NA-GO022T Dark Blue, 15.6\" HD, Pentium N4200 1.1GHz, 4GB, 128GB SSD, Windows 10 Home, En/Ru kbd\n",
      "15 =>  Lenovo ThinkPad E31-80, 13.3\" HD, Celeron 3855U 1.6GHz, 4GB, 128GB SSD, Windows 10 Home\n",
      "16 =>  Acer Aspire 3 A315-31 Black, 15.6\" HD, Pentium N4200 1.1GHz, 4GB, 128GB SSD, Windows 10 Home\n",
      "17 =>  Lenovo V110-15ISK, 15.6\" HD, Core i3-6006U, 8GB, 128GB SSD, Windows 10 Home\n",
      "18 =>  Acer Aspire ES1-732 Black, 17.3\" HD+, Celeron, N3350, 4GB, 1TB, Windows 10 Home\n",
      "19 =>  Asus VivoBook 15 X540NA-GQ026T Chocolate Black, 15.6\" HD, Pentium N4200, 4GB, 128GB SSD, Windows 10 Home, En/Ru kbd\n",
      "20 =>  15.6\", AMD E2-3800 1.3GHz, 4GB, 500GB, Windows 8.1\n",
      "21 =>  Asus EeeBook R416NA-FA014T, 14\" FHD, Pentium N4200, 4GB, 128GB eMMC, Windows 10 Home, Eng kbd\n",
      "22 =>  Acer Aspire 3 A315-51, 15.6\" HD, Core i3-6006U, 4GB, 1TB, Windows 10 Home\n",
      "23 =>  Acer Aspire ES1-572 Black, 15.6\" HD, Core i3-6006U, 4GB, 500GB, Windows 10 Home\n",
      "24 =>  Acer Extensa 15 (2540) Black, 15.6\" HD, Core i5-7200U, 4GB, 500GB, Linux\n",
      "25 =>  Acer Aspire ES1-572 Black, 15.6\" HD, Core i5-7200U, 4GB, 500GB, Linux\n",
      "26 =>  Lenovo V110-15ISK, 15.6\" HD, Core i3-6006U, 4GB, 128GB SSD, Windows 10 Pro\n",
      "27 =>  Acer Aspire A315-51-33TG, Black 15.6\" HD, Core i3-7100U, 4GB DDR4, 128GB SSD, Windows 10 Home, ENG\n",
      "28 =>  Lenovo V110-15IKB, 15.6\" HD, Core i5-7200U, 4GB, 500GB, DOS\n",
      "29 =>  Asus VivoBook 15 X540UA-DM260 Chocolate Black, 15.6\" FHD, Core i3-6006U, 4GB, 256GB SSD, Endless OS, En kbd\n",
      "30 =>  Acer Aspire ES1-572 Black, 15.6\" HD, Core i3-6006U, 4GB, 128GB SSD, Windows 10 Home\n",
      "31 =>  Lenovo V510 Black, 14\" HD, Core i3-6006U, 4GB, 128GB SSD, Windows 10 Home\n",
      "32 =>  Acer Aspire ES1-572 Black, 15.6\" HD, Core i5-7200U, 4GB, 128GB SSD, Linux\n",
      "33 =>  Lenovo V510 Black, 15.6\" HD, Core i3-6006U, 4GB, 128GB SSD, Windows 10 Home\n",
      "34 =>  Acer Swift 1 SF113-31 Silver, 13.3\" FHD, Pentium N4200, 4GB, 128GB SSD, Windows 10 Home\n",
      "35 =>  Dell Vostro 15 (3568) Black, 15.6\" FHD, Core i5-7200U, 4GB, 128GB SSD, Radeon R5 M420 2GB, Linux\n",
      "36 =>  Acer Aspire 3 A315-51 Black, 15.6\" FHD, Core i3-7100U, 4GB, 500GB + 128GB SSD, Windows 10 Home\n",
      "37 =>  Dell Vostro 15 (3568) Red, 15.6\" HD, Core i5-7200U, 4GB, 1TB, Radeon R5 M420 2GB, Linux\n",
      "38 =>  Lenovo V510 Black, 15.6\" FHD, Core i3-7100U, 4GB, 128GB SSD, Windows 10 Pro\n",
      "39 =>  15.6\", Core i5-4210U, 4GB, 500GB, Windows 8.1\n",
      "40 =>  Acer Spin 5 SP513-51 Black, 13.3\" FHD Touch, Core i3-7100U, 4GB, 128GB SSD, Windows 10 Home\n",
      "41 =>  15.6\", Core i5-4200U, 4GB, 750GB, Radeon HD8670M 2GB, Windows\n",
      "42 =>  15.6\", Core i5-4200U, 8GB, 1TB, Radeon R7 M265, Windows 8.1\n",
      "43 =>  15.6\", Core i5-4200U, 6GB, 750GB, Windows 8.1\n",
      "44 =>  Acer Aspire A515-51-5654, Black, 15.6\", FHD, Core i5-8250U, 8GB DDR4, 256GB SSD, Windows 10 Home, ENG\n",
      "45 =>  Dell Inspiron 15 (5567) Fog Gray, 15.6\" FHD, Core i5-7200U, 8GB, 1TB, Radeon R7 M445 4GB, Linux\n",
      "46 =>  Asus VivoBook S14 (S406UA-BV041T) Starry Grey, 14\", Core i5-8250U, 8GB, 256GB SSD, Windows 10 Home, Eng kbd\n",
      "47 =>  14\", Core i5 2.6GHz, 4GB, 500GB, Win7 Pro 64bit\n",
      "48 =>  Moon Silver, 15.6\", Core i7-4510U, 8GB, 1TB, Radeon HD R7 M265 2GB,\n",
      "49 =>  Asus ROG STRIX GL553VD-DM256, 15.6\" FHD, Core i5-7300HQ, 8GB, 1TB, GeForce GTX 1050 2GB, No OS\n",
      "50 =>  Acer Nitro 5 AN515-51, 15.6\" FHD IPS, Core i5-7300HQ, 8GB, 1TB, GeForce GTX 1050 2GB, Windows 10 Home\n",
      "51 =>  Asus ROG STRIX GL553VD-DM256, 15.6\" FHD, Core i5-7300HQ, 8GB, 1TB, GeForce GTX 1050 2GB, No OS + Windows 10 Home\n",
      "52 =>  Lenovo ThinkPad L570, 15.6\" FHD, Core i7-7500U, 8GB, 256GB SSD, Windows 10 Pro\n",
      "53 =>  12.5\" Touch, Core i3-4010U, 4GB, 500GB + 16GB SSD Cache,\n",
      "54 =>  Lenovo ThinkPad L460, 14\" FHD IPS, Core i7-6600U, 8GB, 256GB SSD, Windows 10 Pro\n",
      "55 =>  Dell Inspiron 15 (7567) Black, 15.6\" FHD, Core i5-7300HQ, 8GB, 256GB SSD, GeForce GTX 1050 4GB, Windows 10 Home\n",
      "56 =>  MSI GL72M 7RDX, 17.3\" FHD, Core i5-7300HQ, 8GB, 1TB + 128GB SSD, GeForce GTX 1050 2GB, Windows 10 Home\n",
      "57 =>  Asus ROG Strix GL553VD-DM535T, 15.6\" FHD, Core i7-7700HQ, 8GB, 1TB + 128GB SSD, GeForce GTX 1050 2GB, Windows 10 Home, Eng kbd\n",
      "58 =>  Apple MacBook Air 13.3\", Core i5 1.8GHz, 8GB, 128GB SSD, Intel HD 4000, RUS\n",
      "59 =>  Dell Latitude 5280, 12.5\" HD, Core i5-7300U, 8GB, 256GB SSD, Windows 10 Pro\n",
      "60 =>  Dell Latitude 5480, 14\" FHD, Core i5-7300U, 8GB, 500GB, Linux + Windows 10 Home\n",
      "61 =>  Lenovo Legion Y520-15IKBM, Black, 15.6\" FHD IPS, Core i5-7300HQ, 8 GB, 128GB SSD + 2 TB HDD, NVIDIA GeForce GTX 1060 6 GB, FreeDOS + Windows 10 Home\n",
      "62 =>  Toshiba Portege Z30-C-16J Grey, 13.3\" FHD, Core i5-6200U, 8GB, 256GB SSD, Windows 10 Pro\n",
      "63 =>  Acer Predator Helios 300 (PH317-51), 17.3\" FHD IPS, Core i5-7300HQ, 8GB, 1TB + 128GB SSD, GeForce GTX 1050Ti 4GB, Windows 10 Home\n",
      "64 =>  Acer Aspire 7 A715-71G, 15.6\" FHD IPS, Core i7-7700HQ, 8GB, 128GB SSD + 1TB HDD, GTX 1050 Ti 4GB, Windows 10 Home\n",
      "65 =>  Dell Inspiron 17 2in1 (7779) Silver, 17.3\" FHD Touch, Core i5-7200U, 12GB, 1TB, GeForce GT940MX 2GB, Windows 10 Home\n",
      "66 =>  Dell Latitude 5480, 14\" FHD, Core i5-7300U, 8GB, 500GB, Windows 10 Pro\n",
      "67 =>  Lenovo Legion Y520, 15.6\" FHD, Core i7-7700HQ, 8GB, 128 GB SSD + 1TB HDD, GTX 1050 4GB, Windows 10 Home\n",
      "68 =>  Asus AsusPro Advanced BU401LA-FA271G Dark Grey, 14\", Core i5-4210U, 4GB, 128GB SSD, Win7 Pro 64bit, ENG\n",
      "69 =>  Acer Nitro 5 AN515-51, 15.6\" FHD IPS, Core i7-7700HQ, 8GB, 256GB SSD +1TB, GeForce GTX 1050 Ti 4GB, Windows 10 Home + Windows 10 Home\n",
      "70 =>  Dell Latitude 5480, 14\" FHD, Core i5-7440HQ, 8GB, 256GB SSD, Windows 10 Pro\n",
      "71 =>  Dell Inspiron 15 (7567) Black, 15.6\" FHD, Core i7-7700HQ, 8GB, 1TB, GeForce GTX 1050 Ti 4GB, Linux + Windows 10 Home\n",
      "72 =>  Dell Latitude 5580, 15.6\" FHD, Core i5-7300U, 8GB, 256GB SSD, Windows 10 Pro\n",
      "73 =>  Lenovo Legion Y520-15IKBM, 15.6\" FHD IPS, Core i7-7700HQ, 8GB, 128GB SSD + 1TB, GeForce GTX 1060 Max-Q 6GB, DOS\n",
      "74 =>  MSI GP62M 7RDX Leopard, 15.6\" FHD, Core i7-7700HQ, 8GB, 1TB + 128GB SSD, GeForce GTX 1050 2GB, Windows 10 Home\n",
      "75 =>  Lenovo Yoga 720 Grey, 15.6\" FHD IPS, Core i5-7300HQ, 8GB, 256GB SSD, GeForce GTX 1050 2GB, Windows 10 Home\n",
      "76 =>  Toshiba Portege Z30-C-16L Grey, 13.3\" FHD, Core i7-6500U, 8GB, 256GB SSD, Windows 10 Pro\n",
      "77 =>  Acer TravelMate P645-S-511A Black, 14\" FHD IPS, Core i5-5200U, 8GB, 256GB SSD, 3G, Windows 10 Pro\n",
      "78 =>  Dell Latitude 5580, 15.6\" FHD, Core i5-7300U, 16GB, 256GB SSD, Linux + Windows 10 Home\n",
      "79 =>  15.6\", Core i5-4200M, 4GB, 500GB, Win7 Pro 64bit\n",
      "80 =>  MSI GS63 7RD Stealth, 15.6\" FHD IPS, Core i7-7700HQ, 8GB, 256GB SSD, GeForce GTX 1050 2GB, DOS + Windows 10 Home\n",
      "81 =>  Dell Latitude 5480, 14\" FHD, Core i5-7300U, 8GB, 256GB SSD, Windows 10 Pro\n",
      "82 =>  Acer Predator Helios 300 (PH317-51), 17.3\" FHD IPS, Core i7-7700HQ. 8GB, 128GB SSD +1TB, GeForce GTX 1050Ti 4GB, Linux + Windows 10 Home\n",
      "83 =>  MSI GL62M 7REX, 15.6\" FHD, Core i7-7700HQ, 8GB, 1TB + 128GB SSD, GeForce GTX 1050 Ti 2GB, Windows 10 Home\n",
      "84 =>  MSI GL62M 7REX2, 15.6\" FHD, Core i7-7700HQ, 8GB, 1TB + 128GB SSD, GeForce GTX 1050 Ti 2GB, Windows 10 Home\n",
      "85 =>  Lenovo Yoga 910 Grey, 13.9\" FHD Touch, Core i5-7200U, 8GB, 256GB SSD, Windows 10 Home\n",
      "86 =>  Toshiba Portege X30-D-10J Black/Blue, 13.3\" FHD IPS, Core i5-7200U, 8GB, 256GB SSD, Windows 10 Pro\n",
      "87 =>  Lenovo IdeaPad Miix 510 Platinum Silver, 12.2\" IPS Touch, Core i5-7200U, 8GB, 256GB SSD, 4G, Windows 10 Pro\n",
      "88 =>  Acer Predator Helios 300 (PH317-51), 17.3\" FHD IPS, Core i7-7700HQ, 8GB, 1TB + 128GB SSD, GeForce GTX 1050 Ti 4GB, Windows 10 Home\n",
      "89 =>  12.5\" Touch, Core i5 4200U, 8GB, 500GB + 16GB SSD Cache, Windows\n",
      "90 =>  Asus VivoBook Pro 15 N580VN-FI006T Gold Metal, 15.6\" UHD, Core i7-7700HQ, 16GB, 1TB + 256GB SSD, GeForce MX150 2GB, Windows 10 Home, Eng kbd\n",
      "91 =>  Dell Latitude 5480, 14\" FHD, Core i7-7600U, 8GB, 256GB SSD, Linux\n",
      "92 =>  Asus ZenBook UX530UX-FY040T Blue, 15.6\" FHD, Core i7-7500U, 8GB, 512GB SSD, GeForce GTX950M 2GB, Windows 10 Home, Eng kbd\n",
      "93 =>  12.5\", Core i5 2.6GHz, 8GB, 180GB SSD, Win7 Pro 64bit\n",
      "94 =>  Asus ROG Strix GL753VE-GC096T, 17.3\" FHD, Core i7-7700HQ, 8GB, 1TB + 128GB SSD, GeForce GTX 1050 Ti 4GB, Windows 10 Home, Eng kbd\n",
      "95 =>  Apple MacBook Air 13\", i5 1.8GHz, 8GB, 256GB SSD, Intel HD 6000, ENG\n",
      "96 =>  Dell Latitude 5480, 14\" FHD, Core i7-7600U, 8GB, 1TB, GeForce GT930MX, Windows 10 Pro\n",
      "97 =>  Hewlett Packard Spectre 13-v106na Dark Ash Silver, 13.3\" FHD IPS, Core i5-7200U, 8GB, 256GB SSD, Windows 10 Home\n",
      "98 =>  13.3\" Touch, Core i5-4210U, 8GB, 128GB SSD, Windows 8.1\n",
      "99 =>  Toshiba Portege Z30-C-16K Grey, 13.3\" FHD, Core i5-6200U, 8GB, 256GB SSD, 4G, Windows 10 Pro\n",
      "100 =>  MSI GL62VR 7RFX, 15.6\" FHD, Core i7-7700HQ, 8GB, 1TB + 256GB SSD, GeForce GTX 1060 3GB, Windows 10 Home\n",
      "101 =>  Dell Latitude 5480, 14\" FHD, Core i7-7600U, 8GB, 256GB SSD, Windows 10 Pro\n",
      "102 =>  12.5\", Core i5-4300U, 8GB, 240GB SSD, Win7 Pro 64bit\n",
      "103 =>  Hewlett Packard ProBook 640 G3, 14\" FHD, Core i7-7600U, 8GB, 256GB SSD, Windows 10 Pro\n",
      "104 =>  Apple MacBook Pro 13\" Space Gray, Core i5 2.3GHz, 8GB, 128GB SSD, Iris Plus 640, ENG\n",
      "105 =>  Dell Latitude 5580, 15.6\" FHD, Core i7-7600U, 8GB, 256GB SSD, GeForce GT930MX, Windows 10 Pro\n",
      "106 =>  Dell Latitude 5480, 14\" FHD, Core i7-7600U, 8GB, 256GB SSD, Linux + Windows 10 Home\n",
      "107 =>  Dell Latitude 5580, 15.6\" FHD, Core i7-7600U, 16GB, 256GB SSD, GeForce GT930MX, Linux\n",
      "108 =>  Apple MacBook Air 13\", Intel Core i5 1.8GHz, 8GB, 256GB SSD, Intel HD 6000, RUS\n",
      "109 =>  Lenovo ThinkPad T470, 14\" FHD IPS, Core i5-7200U, 8GB, 256GB SSD, Windows 10 Pro\n",
      "110 =>  Lenovo ThinkPad Yoga 370 Black, 13.3\" FHD IPS Touch, Core i5-7200U, 8GB, 256GB SSD, 4G, Windows 10 Pro\n",
      "111 =>  Toshiba Portege X20W-D-10V Black/Blue, 12.5\" FHD Touch, Core i7-7500U, 8GB, 512GB SSD, Windows 10 Pro\n",
      "112 =>  Asus ASUSPRO B9440UA-GV0279R Gray, 14\" FHD, Core i7-7500U, 16GB, 512GB SSD, Windows 10 Pro, Eng kbd\n",
      "113 =>  Lenovo Legion Y720, 15.6\" FHD IPS, Core i7-7700HQ, 8GB, 128GB SSD + 2TB HDD, GeForce GTX 1060 6GB, DOS, RGB backlit keyboard\n",
      "114 =>  Asus ROG Strix GL702VM-GC146T, 17.3\" FHD, Core i7-7700HQ, 8GB, 1TB + 128GB SSD, GeForce GTX 1060 3GB, Windows 10 Home, Eng kbd\n",
      "115 =>  Asus ROG Strix GL702ZC-GC154T, 17.3\" FHD, Ryzen 7 1700, 16GB, 256GB + 1TB HDD, Radeon RX 580 4GB, Windows 10 Home\n",
      "116 =>  Asus ROG Strix GL702ZC-GC209T, 17.3\" FHD IPS, Ryzen 7 1700, 16GB, 256GB SSD + 1TB HDD, Radeon RX 580 4GB, Windows 10 Home\n",
      "117 =>  Asus ROG Strix SCAR Edition GL503VM-ED115T, 15.6\" FHD 120Hz, Core i7-7700HQ, 16GB, 256GB SSD + 1TB SSHD, GeForce GTX 1060 6GB, Windows 10 Home\n"
     ]
    }
   ],
   "source": [
    "url = \"https://webscraper.io/test-sites/e-commerce/allinone/computers/laptops\"\n",
    "r = req.get(url)\n",
    "soup = bs(r.text, \"lxml\")\n",
    "\n",
    "price = soup.find_all(\"h4\", {\"class\": \"pull-right price\"})\n",
    "print(\"=> Prices\")\n",
    "for i in price:\n",
    "    print(i.string)\n",
    "    \n",
    "print(\"Description\")\n",
    "des = soup.find_all(\"p\", {\"class\": \"description\"})\n",
    "\n",
    "n = 1\n",
    "for j in des:\n",
    "    print(n, \"=> \", j.string)\n",
    "    n= n+1\n",
    "    \n",
    "\n",
    "\n",
    "\n",
    "#Note find_all() function is used for extract all data from tags and attributes (this is the diff between find_all() and find() function)\n"
   ]
  },
  {
   "cell_type": "code",
   "execution_count": 34,
   "id": "5161d4ce",
   "metadata": {},
   "outputs": [
    {
     "name": "stdout",
     "output_type": "stream",
     "text": [
      "Asus VivoBook X4...\n",
      "Asus VivoBook X441NA-GA190 Chocolate Black, 14\", Celeron N3450, 4GB, 128GB SSD, Endless OS, ENG kbd\n",
      "Asus VivoBook 15 X540NA-GQ008T Chocolate Black, 15.6\" HD, Pentium N4200, 4GB, 500GB, Windows 10 Home, En kbd\n",
      "Asus VivoBook Ma...\n",
      "Asus VivoBook Max X541NA-GQ041 Black Chocolate, 15.6\" HD, Pentium N4200 1.1GHz, 4GB, 500GB, Windows 10 Home\n",
      "Asus VivoBook E5...\n",
      "Asus VivoBook E502NA-GO022T Dark Blue, 15.6\" HD, Pentium N4200 1.1GHz, 4GB, 128GB SSD, Windows 10 Home, En/Ru kbd\n",
      "Asus VivoBook 15...\n",
      "Asus VivoBook 15 X540NA-GQ026T Chocolate Black, 15.6\" HD, Pentium N4200, 4GB, 128GB SSD, Windows 10 Home, En/Ru kbd\n",
      "Asus EeeBook R41...\n",
      "Asus EeeBook R416NA-FA014T, 14\" FHD, Pentium N4200, 4GB, 128GB eMMC, Windows 10 Home, Eng kbd\n",
      "Asus VivoBook 15...\n",
      "Asus VivoBook 15 X540UA-DM260 Chocolate Black, 15.6\" FHD, Core i3-6006U, 4GB, 256GB SSD, Endless OS, En kbd\n",
      "Asus VivoBook S1...\n",
      "Asus VivoBook S14 (S406UA-BV041T) Starry Grey, 14\", Core i5-8250U, 8GB, 256GB SSD, Windows 10 Home, Eng kbd\n",
      "Asus ROG STRIX G...\n",
      "Asus ROG STRIX GL553VD-DM256, 15.6\" FHD, Core i5-7300HQ, 8GB, 1TB, GeForce GTX 1050 2GB, No OS\n",
      "Asus ROG STRIX G...\n",
      "Asus ROG STRIX GL553VD-DM256, 15.6\" FHD, Core i5-7300HQ, 8GB, 1TB, GeForce GTX 1050 2GB, No OS + Windows 10 Home\n",
      "Asus ROG Strix GL553VD-DM535T, 15.6\" FHD, Core i7-7700HQ, 8GB, 1TB + 128GB SSD, GeForce GTX 1050 2GB, Windows 10 Home, Eng kbd\n",
      "Asus ROG Strix G...\n",
      "Asus AsusPro Adv...\n",
      "Asus AsusPro Advanced BU401LA-FA271G Dark Grey, 14\", Core i5-4210U, 4GB, 128GB SSD, Win7 Pro 64bit, ENG\n",
      "Asus VivoBook Pr...\n",
      "Asus VivoBook Pro 15 N580VN-FI006T Gold Metal, 15.6\" UHD, Core i7-7700HQ, 16GB, 1TB + 256GB SSD, GeForce MX150 2GB, Windows 10 Home, Eng kbd\n",
      "Asus ZenBook UX5...\n",
      "Asus ZenBook UX530UX-FY040T Blue, 15.6\" FHD, Core i7-7500U, 8GB, 512GB SSD, GeForce GTX950M 2GB, Windows 10 Home, Eng kbd\n",
      "Asus ROG Strix G...\n",
      "Asus ROG Strix GL753VE-GC096T, 17.3\" FHD, Core i7-7700HQ, 8GB, 1TB + 128GB SSD, GeForce GTX 1050 Ti 4GB, Windows 10 Home, Eng kbd\n",
      "Asus ASUSPRO B94...\n",
      "Asus ASUSPRO B9440UA-GV0279R Gray, 14\" FHD, Core i7-7500U, 16GB, 512GB SSD, Windows 10 Pro, Eng kbd\n",
      "Asus ROG Strix G...\n",
      "Asus ROG Strix GL702VM-GC146T, 17.3\" FHD, Core i7-7700HQ, 8GB, 1TB + 128GB SSD, GeForce GTX 1060 3GB, Windows 10 Home, Eng kbd\n",
      "Asus ROG Strix G...\n",
      "Asus ROG Strix GL702ZC-GC154T, 17.3\" FHD, Ryzen 7 1700, 16GB, 256GB + 1TB HDD, Radeon RX 580 4GB, Windows 10 Home\n",
      "Asus ROG Strix G...\n",
      "Asus ROG Strix GL702ZC-GC209T, 17.3\" FHD IPS, Ryzen 7 1700, 16GB, 256GB SSD + 1TB HDD, Radeon RX 580 4GB, Windows 10 Home\n",
      "Asus ROG Strix S...\n",
      "Asus ROG Strix SCAR Edition GL503VM-ED115T, 15.6\" FHD 120Hz, Core i7-7700HQ, 16GB, 256GB SSD + 1TB SSHD, GeForce GTX 1060 6GB, Windows 10 Home\n"
     ]
    }
   ],
   "source": [
    "data = soup.find_all(string = re.compile(\"Asus\"))    # re.compile use for extract all data from specific tag data here forexample extract data start from name Asus\n",
    "for i in data:\n",
    "    print(i)"
   ]
  },
  {
   "cell_type": "code",
   "execution_count": 37,
   "id": "ace5bcf6",
   "metadata": {},
   "outputs": [
    {
     "name": "stdout",
     "output_type": "stream",
     "text": [
      "HP 250 G3\n"
     ]
    }
   ],
   "source": [
    "data = soup.find_all(string = \"HP 250 G3\")    # re.compile use for extract a specific tag data here forexample extract data start from name HP 250 G3\n",
    "for i in data:\n",
    "    print(i)\n",
    "    "
   ]
  },
  {
   "cell_type": "code",
   "execution_count": null,
   "id": "1136bf5d",
   "metadata": {},
   "outputs": [],
   "source": []
  }
 ],
 "metadata": {
  "kernelspec": {
   "display_name": "Python 3 (ipykernel)",
   "language": "python",
   "name": "python3"
  },
  "language_info": {
   "codemirror_mode": {
    "name": "ipython",
    "version": 3
   },
   "file_extension": ".py",
   "mimetype": "text/x-python",
   "name": "python",
   "nbconvert_exporter": "python",
   "pygments_lexer": "ipython3",
   "version": "3.9.12"
  }
 },
 "nbformat": 4,
 "nbformat_minor": 5
}

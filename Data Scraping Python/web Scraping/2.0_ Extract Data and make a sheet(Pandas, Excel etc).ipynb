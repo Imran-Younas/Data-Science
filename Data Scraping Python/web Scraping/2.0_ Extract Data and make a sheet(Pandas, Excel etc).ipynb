{
 "cells": [
  {
   "cell_type": "code",
   "execution_count": 2,
   "id": "ec88cc35",
   "metadata": {},
   "outputs": [],
   "source": [
    "import pandas as pd\n",
    "from bs4 import BeautifulSoup as bs\n",
    "import re\n",
    "import requests as rq"
   ]
  },
  {
   "cell_type": "code",
   "execution_count": 37,
   "id": "0d5da1f2",
   "metadata": {},
   "outputs": [],
   "source": [
    "url = \"https://webscraper.io/test-sites/e-commerce/allinone/computers/tablets\"\n",
    "\n",
    "req = rq.get(url)\n",
    "soup = bs(req.text, \"lxml\")\n",
    "\n",
    "names = soup.find_all(\"a\", {\"class\": \"title\"})\n",
    "names_list = []\n",
    "\n",
    "for i in names:\n",
    "    name = i.string\n",
    "    names_list.append(name)\n",
    "    \n",
    "# --------------------------------- #\n",
    "\n",
    "prices = soup.find_all(\"h4\", {\"class\": \"pull-right price\"})\n",
    "prices_list = []\n",
    "\n",
    "for j in prices:\n",
    "    prices_list.append(j.string)\n",
    "\n",
    "# ---------------------------------- #\n",
    "\n",
    "desc = soup.find_all(\"p\", {\"class\": \"description\"})\n",
    "desc_list = []\n",
    "\n",
    "for k in desc:\n",
    "    desc_list.append(k.string)\n",
    "\n",
    "\n",
    "# ---------------------------------- #\n",
    "\n",
    "review = soup.find_all(\"p\", {\"class\": \"pull-right\"})\n",
    "review_list = []\n",
    "\n",
    "for l in review:\n",
    "    review_list.append(l.string)\n",
    "    \n"
   ]
  },
  {
   "cell_type": "code",
   "execution_count": 41,
   "id": "8d6848af",
   "metadata": {},
   "outputs": [],
   "source": [
    "df = pd.DataFrame({\"Names\":names_list, \"Description\": desc_list, \"Prices\": prices_list, \"Review\": review_list})\n",
    "df.to_excel(\"Extracted Data.xlsx\") "
   ]
  },
  {
   "cell_type": "code",
   "execution_count": null,
   "id": "8842a558",
   "metadata": {},
   "outputs": [],
   "source": []
  }
 ],
 "metadata": {
  "kernelspec": {
   "display_name": "Python 3 (ipykernel)",
   "language": "python",
   "name": "python3"
  },
  "language_info": {
   "codemirror_mode": {
    "name": "ipython",
    "version": 3
   },
   "file_extension": ".py",
   "mimetype": "text/x-python",
   "name": "python",
   "nbconvert_exporter": "python",
   "pygments_lexer": "ipython3",
   "version": "3.9.12"
  }
 },
 "nbformat": 4,
 "nbformat_minor": 5
}

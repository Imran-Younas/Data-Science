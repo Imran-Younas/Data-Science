{
 "cells": [
  {
   "cell_type": "code",
   "execution_count": 1,
   "id": "ec06aa7e",
   "metadata": {},
   "outputs": [],
   "source": [
    "import pandas as pd\n",
    "from bs4 import BeautifulSoup as bs\n",
    "import re\n",
    "import requests as rq"
   ]
  },
  {
   "cell_type": "code",
   "execution_count": 24,
   "id": "764beb54",
   "metadata": {},
   "outputs": [
    {
     "name": "stdout",
     "output_type": "stream",
     "text": [
      "24\n",
      "['₹8,999', '₹8,499', '₹9,999', '₹8,499', '₹8,499', '₹9,999', '₹8,999', '₹9,999', '₹9,999', '₹8,499', '₹15,999', '₹8,499', '₹7,499', '₹14,999', '₹12,999', '₹12,999', '₹13,999', '₹6,499', '₹14,999', '₹12,999', '₹6,499', '₹15,999', '₹11,999', '₹12,999']\n"
     ]
    }
   ],
   "source": [
    "url = \"https://www.flipkart.com/mobiles/pr?sid=tyy%2C4io&p%5B%5D=facets.brand%255B%255D%3DPOCO&ctx=eyJjYXJkQ29udGV4dCI6eyJhdHRyaWJ1dGVzIjp7InRpdGxlIjp7Im11bHRpVmFsdWVkQXR0cmlidXRlIjp7ImtleSI6InRpdGxlIiwiaW5mZXJlbmNlVHlwZSI6IlRJVExFIiwidmFsdWVzIjpbIlNob3AgTm93Il0sInZhbHVlVHlwZSI6Ik1VTFRJX1ZBTFVFRCJ9fX19fQ%3D%3D&otracker=clp_metro_expandable_2_5.metroExpandable.METRO_EXPANDABLE_Shop%2BNow_mobile-phones-store_O1WYX08RHODP_wp2&fm=neo%2Fmerchandising&iid=M_80fd5609-1e5c-4b96-88f2-c279640cb48a_5.O1WYX08RHODP&ppt=hp&ppn=homepage&ssid=1swkxguwxs0000001681310406048\"\n",
    "r = rq.get(url)\n",
    "soup = bs(r.text, \"lxml\")\n",
    "\n",
    "# ---------------------------- #\n",
    "\n",
    "names = soup.find_all(\"div\", {\"class\": \"_4rR01T\"})\n",
    "name_list = []\n",
    "for i in names:\n",
    "    name_list.append(i.string)\n",
    "print(len(name_list))\n",
    "# ---------------------------- #\n",
    "\n",
    "desc = soup.find_all(\"li\", {\"class\": \"rgWa7D\"})\n",
    "desc_list = []\n",
    "m = 1\n",
    "\n",
    "for j in desc:\n",
    "    desc_list.append(j.string)\n",
    "    \n",
    "\n",
    "#     desc_list.append(desc)\n",
    "#     print(desc)\n",
    "    \n",
    "\n",
    "    \n",
    "# ---------------------------- #\n",
    "\n",
    "price = soup.find_all(\"div\", {\"class\": \"_30jeq3 _1_WHN1\"})\n",
    "price_list = []\n",
    "for k in price:\n",
    "    price_list.append(k.string)\n",
    "    \n",
    "print((price_list))\n",
    "    \n",
    "# ---------------------------- #\n",
    "# ---------------------------- #\n",
    "# ---------------------------- #\n",
    "\n",
    "    "
   ]
  },
  {
   "cell_type": "code",
   "execution_count": null,
   "id": "cebc3811",
   "metadata": {},
   "outputs": [],
   "source": []
  },
  {
   "cell_type": "code",
   "execution_count": null,
   "id": "999d469d",
   "metadata": {},
   "outputs": [],
   "source": []
  },
  {
   "cell_type": "code",
   "execution_count": null,
   "id": "7482e728",
   "metadata": {},
   "outputs": [],
   "source": []
  },
  {
   "cell_type": "code",
   "execution_count": null,
   "id": "77bb244a",
   "metadata": {},
   "outputs": [],
   "source": []
  },
  {
   "cell_type": "code",
   "execution_count": null,
   "id": "e07ba32c",
   "metadata": {},
   "outputs": [],
   "source": []
  }
 ],
 "metadata": {
  "kernelspec": {
   "display_name": "Python 3 (ipykernel)",
   "language": "python",
   "name": "python3"
  },
  "language_info": {
   "codemirror_mode": {
    "name": "ipython",
    "version": 3
   },
   "file_extension": ".py",
   "mimetype": "text/x-python",
   "name": "python",
   "nbconvert_exporter": "python",
   "pygments_lexer": "ipython3",
   "version": "3.9.12"
  }
 },
 "nbformat": 4,
 "nbformat_minor": 5
}
